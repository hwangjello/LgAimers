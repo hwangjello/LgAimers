{
  "cells": [
    {
      "cell_type": "markdown",
      "id": "273b75f6-25fa-4f9c-8c9d-fa33a985f2dd",
      "metadata": {
        "id": "273b75f6-25fa-4f9c-8c9d-fa33a985f2dd"
      },
      "source": [
        "## Import"
      ]
    },
    {
      "cell_type": "code",
      "execution_count": 29,
      "id": "5c415d9d-1111-46ed-bc2d-849c75ab962a",
      "metadata": {
        "id": "5c415d9d-1111-46ed-bc2d-849c75ab962a"
      },
      "outputs": [],
      "source": [
        "import pandas as pd\n",
        "import random\n",
        "import os\n",
        "import numpy as np\n",
        "\n",
        "from sklearn.preprocessing import LabelEncoder\n",
        "from sklearn.ensemble import RandomForestClassifier"
      ]
    },
    {
      "cell_type": "code",
      "execution_count": 30,
      "id": "edae871a-b31b-4f06-bb88-0fd1f6660b13",
      "metadata": {
        "id": "edae871a-b31b-4f06-bb88-0fd1f6660b13"
      },
      "outputs": [],
      "source": [
        "def seed_everything(seed):\n",
        "    random.seed(seed)\n",
        "    os.environ['PYTHONHASHSEED'] = str(seed)\n",
        "    np.random.seed(seed)\n",
        "seed_everything(37) # Seed 고정"
      ]
    },
    {
      "cell_type": "markdown",
      "id": "119f9c1c-39bc-42e7-a00d-3062d11b4f1e",
      "metadata": {
        "id": "119f9c1c-39bc-42e7-a00d-3062d11b4f1e"
      },
      "source": [
        "## Data Load"
      ]
    },
    {
      "cell_type": "code",
      "execution_count": 31,
      "id": "ee76c413-001b-475e-9d1c-6662d25d2db2",
      "metadata": {
        "colab": {
          "base_uri": "https://localhost:8080/"
        },
        "id": "ee76c413-001b-475e-9d1c-6662d25d2db2",
        "outputId": "fb77b086-bd7e-4def-eee4-54ee088ee7d7"
      },
      "outputs": [
        {
          "name": "stdout",
          "output_type": "stream",
          "text": [
            "Drive already mounted at /content/drive; to attempt to forcibly remount, call drive.mount(\"/content/drive\", force_remount=True).\n"
          ]
        }
      ],
      "source": [
        "from google.colab import drive\n",
        "drive.mount('/content/drive')\n",
        "trainname='/content/drive/MyDrive/train.csv'\n",
        "testname='/content/drive/MyDrive/test.csv'\n",
        "samplename='/content/drive/MyDrive/sample_submission.csv'\n",
        "train_df = pd.read_csv(trainname)\n",
        "test_df = pd.read_csv(testname)"
      ]
    },
    {
      "cell_type": "code",
      "execution_count": 32,
      "id": "ffc6afcd-a059-4c16-81a5-ab3d4d750a41",
      "metadata": {
        "id": "ffc6afcd-a059-4c16-81a5-ab3d4d750a41"
      },
      "outputs": [],
      "source": [
        "train_x = train_df.drop(columns=['PRODUCT_ID', 'TIMESTAMP', 'Y_Class', 'Y_Quality'])\n",
        "train_y = train_df['Y_Class']\n",
        "\n",
        "test_x = test_df.drop(columns=['PRODUCT_ID', 'TIMESTAMP'])"
      ]
    },
    {
      "cell_type": "markdown",
      "id": "885f1e6b-97f4-4f90-b3ce-0513b7196db6",
      "metadata": {
        "id": "885f1e6b-97f4-4f90-b3ce-0513b7196db6"
      },
      "source": [
        "## Data Pre-processing"
      ]
    },
    {
      "cell_type": "code",
      "execution_count": 1,
      "id": "8ad73f05-9bc3-4063-af29-25dc31f9e3d0",
      "metadata": {
        "id": "8ad73f05-9bc3-4063-af29-25dc31f9e3d0"
      },
      "outputs": [
        {
          "ename": "NameError",
          "evalue": "name 'train_x' is not defined",
          "output_type": "error",
          "traceback": [
            "\u001b[1;31m---------------------------------------------------------------------------\u001b[0m",
            "\u001b[1;31mNameError\u001b[0m                                 Traceback (most recent call last)",
            "Cell \u001b[1;32mIn [1], line 1\u001b[0m\n\u001b[1;32m----> 1\u001b[0m train_x \u001b[39m=\u001b[39m train_x\u001b[39m.\u001b[39mfillna(\u001b[39m0\u001b[39m)\n\u001b[0;32m      2\u001b[0m test_x \u001b[39m=\u001b[39m test_x\u001b[39m.\u001b[39mfillna(\u001b[39m0\u001b[39m)\n",
            "\u001b[1;31mNameError\u001b[0m: name 'train_x' is not defined"
          ]
        }
      ],
      "source": [
        "train_x = train_x.fillna(0)\n",
        "test_x = test_x.fillna(0)\n"
      ]
    },
    {
      "cell_type": "code",
      "execution_count": 34,
      "id": "f710209f-754a-456b-97a5-f7fb4f7e0f51",
      "metadata": {
        "colab": {
          "base_uri": "https://localhost:8080/"
        },
        "id": "f710209f-754a-456b-97a5-f7fb4f7e0f51",
        "outputId": "9653e68f-2bcf-4adc-c607-ee01c8140ae9"
      },
      "outputs": [
        {
          "name": "stdout",
          "output_type": "stream",
          "text": [
            "Done.\n"
          ]
        }
      ],
      "source": [
        "# qualitative to quantitative\n",
        "qual_col = ['LINE', 'PRODUCT_CODE']\n",
        "\n",
        "for i in qual_col:\n",
        "    le = LabelEncoder()\n",
        "    le = le.fit(train_x[i])\n",
        "    train_x[i] = le.transform(train_x[i])\n",
        "    \n",
        "    for label in np.unique(test_x[i]): \n",
        "        if label not in le.classes_: \n",
        "            le.classes_ = np.append(le.classes_, label)\n",
        "    test_x[i] = le.transform(test_x[i]) \n",
        "    \n",
        "print('Done.')"
      ]
    },
    {
      "cell_type": "markdown",
      "id": "5fec6b34-1e64-4d20-afdd-e96f4f77fa31",
      "metadata": {
        "id": "5fec6b34-1e64-4d20-afdd-e96f4f77fa31"
      },
      "source": [
        "## Classification Model Fit"
      ]
    },
    {
      "cell_type": "code",
      "execution_count": 35,
      "id": "c6ca77bc-154c-4cb3-9251-3fe45d671416",
      "metadata": {
        "colab": {
          "base_uri": "https://localhost:8080/"
        },
        "id": "c6ca77bc-154c-4cb3-9251-3fe45d671416",
        "outputId": "89c89402-b618-4075-8161-6be1455f02bc"
      },
      "outputs": [
        {
          "name": "stdout",
          "output_type": "stream",
          "text": [
            "Done.\n"
          ]
        }
      ],
      "source": [
        "RF = RandomForestClassifier(random_state=37).fit(train_x, train_y)\n",
        "print('Done.')"
      ]
    },
    {
      "cell_type": "markdown",
      "id": "74ddaa38-bd6e-47d2-82d3-c000f188886a",
      "metadata": {
        "id": "74ddaa38-bd6e-47d2-82d3-c000f188886a"
      },
      "source": [
        "## Inference"
      ]
    },
    {
      "cell_type": "code",
      "execution_count": 36,
      "id": "33b68656-3d7d-4221-b508-24d0d7622179",
      "metadata": {
        "colab": {
          "base_uri": "https://localhost:8080/"
        },
        "id": "33b68656-3d7d-4221-b508-24d0d7622179",
        "outputId": "56724b08-84b6-47ba-da54-626170483ecd"
      },
      "outputs": [
        {
          "name": "stdout",
          "output_type": "stream",
          "text": [
            "Done.\n"
          ]
        }
      ],
      "source": [
        "preds = RF.predict(test_x)\n",
        "print('Done.')"
      ]
    },
    {
      "cell_type": "markdown",
      "id": "d97cf38e-2062-4645-9095-2ebac375711e",
      "metadata": {
        "id": "d97cf38e-2062-4645-9095-2ebac375711e"
      },
      "source": [
        "## Submit"
      ]
    },
    {
      "cell_type": "code",
      "execution_count": 37,
      "id": "20c5e156-d7c4-400f-b552-0bb86ebfd3e3",
      "metadata": {
        "id": "20c5e156-d7c4-400f-b552-0bb86ebfd3e3"
      },
      "outputs": [],
      "source": [
        "submit = pd.read_csv(samplename)"
      ]
    },
    {
      "cell_type": "code",
      "execution_count": 38,
      "id": "5b869ab6-6852-45a1-bc75-39dee40b583f",
      "metadata": {
        "id": "5b869ab6-6852-45a1-bc75-39dee40b583f"
      },
      "outputs": [],
      "source": [
        "submit['Y_Class'] = preds"
      ]
    },
    {
      "cell_type": "code",
      "execution_count": 39,
      "id": "026b00cd-5680-4bf2-b7f8-0bea6ae8299e",
      "metadata": {
        "id": "026b00cd-5680-4bf2-b7f8-0bea6ae8299e",
        "tags": []
      },
      "outputs": [],
      "source": [
        "submit.to_csv('./baseline_submission.csv', index=False)"
      ]
    }
  ],
  "metadata": {
    "colab": {
      "provenance": []
    },
    "kernelspec": {
      "display_name": "Python 3",
      "language": "python",
      "name": "python3"
    },
    "language_info": {
      "codemirror_mode": {
        "name": "ipython",
        "version": 3
      },
      "file_extension": ".py",
      "mimetype": "text/x-python",
      "name": "python",
      "nbconvert_exporter": "python",
      "pygments_lexer": "ipython3",
      "version": "3.10.7"
    },
    "vscode": {
      "interpreter": {
        "hash": "d293d21593a46bb924dc87ef7685bd20b15fe9661a4a4be5b80d757453165167"
      }
    }
  },
  "nbformat": 4,
  "nbformat_minor": 5
}
