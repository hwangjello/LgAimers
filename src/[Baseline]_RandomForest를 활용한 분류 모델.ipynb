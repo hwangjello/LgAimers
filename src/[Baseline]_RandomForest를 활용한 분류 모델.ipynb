{
 "cells": [
  {
   "cell_type": "markdown",
   "id": "273b75f6-25fa-4f9c-8c9d-fa33a985f2dd",
   "metadata": {},
   "source": [
    "## Import"
   ]
  },
  {
   "cell_type": "code",
   "execution_count": 1,
   "id": "5c415d9d-1111-46ed-bc2d-849c75ab962a",
   "metadata": {},
   "outputs": [],
   "source": [
    "import pandas as pd\n",
    "import random\n",
    "import os\n",
    "import numpy as np\n",
    "\n",
    "from sklearn.preprocessing import LabelEncoder\n",
    "from sklearn.ensemble import RandomForestClassifier"
   ]
  },
  {
   "cell_type": "code",
   "execution_count": 2,
   "id": "edae871a-b31b-4f06-bb88-0fd1f6660b13",
   "metadata": {},
   "outputs": [],
   "source": [
    "def seed_everything(seed):\n",
    "    random.seed(seed)\n",
    "    os.environ['PYTHONHASHSEED'] = str(seed)\n",
    "    np.random.seed(seed)\n",
    "seed_everything(37) # Seed 고정"
   ]
  },
  {
   "cell_type": "markdown",
   "id": "119f9c1c-39bc-42e7-a00d-3062d11b4f1e",
   "metadata": {},
   "source": [
    "## Data Load"
   ]
  },
  {
   "cell_type": "code",
   "execution_count": 3,
   "id": "ee76c413-001b-475e-9d1c-6662d25d2db2",
   "metadata": {},
   "outputs": [],
   "source": [
    "train_df = pd.read_csv('./train.csv')\n",
    "test_df = pd.read_csv('./test.csv')"
   ]
  },
  {
   "cell_type": "code",
   "execution_count": 4,
   "id": "ffc6afcd-a059-4c16-81a5-ab3d4d750a41",
   "metadata": {},
   "outputs": [],
   "source": [
    "train_x = train_df.drop(columns=['PRODUCT_ID', 'TIMESTAMP', 'Y_Class', 'Y_Quality'])\n",
    "train_y = train_df['Y_Class']\n",
    "\n",
    "test_x = test_df.drop(columns=['PRODUCT_ID', 'TIMESTAMP'])"
   ]
  },
  {
   "cell_type": "markdown",
   "id": "885f1e6b-97f4-4f90-b3ce-0513b7196db6",
   "metadata": {},
   "source": [
    "## Data Pre-processing"
   ]
  },
  {
   "cell_type": "code",
   "execution_count": 5,
   "id": "17b33e2f",
   "metadata": {},
   "outputs": [
    {
     "name": "stdout",
     "output_type": "stream",
     "text": [
      "Done.\n"
     ]
    }
   ],
   "source": [
    "# qualitative to quantitative\n",
    "qual_col = ['LINE', 'PRODUCT_CODE']\n",
    "\n",
    "for i in qual_col:\n",
    "    le = LabelEncoder()\n",
    "    le = le.fit(train_x[i])\n",
    "    train_x[i] = le.transform(train_x[i])\n",
    "    \n",
    "    for label in np.unique(test_x[i]): \n",
    "        if label not in le.classes_: \n",
    "            le.classes_ = np.append(le.classes_, label)\n",
    "    test_x[i] = le.transform(test_x[i]) \n",
    "print('Done.')"
   ]
  },
  {
   "cell_type": "code",
   "execution_count": 6,
   "id": "42eb9ce4",
   "metadata": {},
   "outputs": [
    {
     "name": "stdout",
     "output_type": "stream",
     "text": [
      "[0 2 1] [2 3 4 5 1 0]\n",
      "     LINE  PRODUCT_CODE  X_1   X_2  X_3   X_4   X_5  X_6   X_7   X_8  ...  \\\n",
      "0       5             2  2.0  94.0  0.0  45.0  10.0  0.0  51.0  10.0  ...   \n",
      "1       4             2  2.0  93.0  0.0  45.0  11.0  0.0  45.0  10.0  ...   \n",
      "2       4             2  2.0  95.0  0.0  45.0  11.0  0.0  45.0  10.0  ...   \n",
      "3       0             0  NaN   NaN  NaN   NaN   NaN  NaN   NaN   NaN  ...   \n",
      "4       1             0  NaN   NaN  NaN   NaN   NaN  NaN   NaN   NaN  ...   \n",
      "..    ...           ...  ...   ...  ...   ...   ...  ...   ...   ...  ...   \n",
      "305     5             2  2.0  91.0  0.0  45.0  10.0  0.0  51.0  10.0  ...   \n",
      "306     4             2  2.0  96.0  0.0  45.0  11.0  0.0  45.0  10.0  ...   \n",
      "307     5             2  2.0  91.0  0.0  45.0  10.0  0.0  50.0  10.0  ...   \n",
      "308     5             2  2.0  95.0  0.0  45.0  10.0  0.0  51.0  10.0  ...   \n",
      "309     5             2  2.0  87.0  0.0  45.0  10.0  0.0  51.0  10.0  ...   \n",
      "\n",
      "     X_2866  X_2867  X_2868  X_2869  X_2870  X_2871  X_2872  X_2873  X_2874  \\\n",
      "0       NaN     NaN     NaN     NaN     NaN     NaN     NaN     NaN     NaN   \n",
      "1       NaN     NaN     NaN     NaN     NaN     NaN     NaN     NaN     NaN   \n",
      "2       NaN     NaN     NaN     NaN     NaN     NaN     NaN     NaN     NaN   \n",
      "3       NaN     NaN     NaN     NaN     NaN     NaN     NaN     NaN     NaN   \n",
      "4       NaN     NaN     NaN     NaN     NaN     NaN     NaN     NaN     NaN   \n",
      "..      ...     ...     ...     ...     ...     ...     ...     ...     ...   \n",
      "305     NaN     NaN     NaN     NaN     NaN     NaN     NaN     NaN     NaN   \n",
      "306     NaN     NaN     NaN     NaN     NaN     NaN     NaN     NaN     NaN   \n",
      "307     NaN     NaN     NaN     NaN     NaN     NaN     NaN     NaN     NaN   \n",
      "308     NaN     NaN     NaN     NaN     NaN     NaN     NaN     NaN     NaN   \n",
      "309     NaN     NaN     NaN     NaN     NaN     NaN     NaN     NaN     NaN   \n",
      "\n",
      "     X_2875  \n",
      "0       NaN  \n",
      "1       NaN  \n",
      "2       NaN  \n",
      "3       NaN  \n",
      "4       NaN  \n",
      "..      ...  \n",
      "305     NaN  \n",
      "306     NaN  \n",
      "307     NaN  \n",
      "308     NaN  \n",
      "309     NaN  \n",
      "\n",
      "[310 rows x 2877 columns]\n"
     ]
    }
   ],
   "source": [
    "#line과 product code로 나눔\n",
    "pr_u=train_x['PRODUCT_CODE'].unique()\n",
    "li_u=train_x['LINE'].unique()\n",
    "print(pr_u, li_u)\n",
    "print(test_x)"
   ]
  },
  {
   "cell_type": "code",
   "execution_count": 7,
   "id": "280d7cb0",
   "metadata": {},
   "outputs": [
    {
     "data": {
      "text/plain": [
       "Index(['X_1', 'X_2', 'X_3', 'X_4', 'X_5', 'X_6', 'X_7', 'X_8', 'X_9', 'X_10',\n",
       "       ...\n",
       "       'X_2866', 'X_2867', 'X_2868', 'X_2869', 'X_2870', 'X_2871', 'X_2872',\n",
       "       'X_2873', 'X_2874', 'X_2875'],\n",
       "      dtype='object', length=2875)"
      ]
     },
     "execution_count": 7,
     "metadata": {},
     "output_type": "execute_result"
    }
   ],
   "source": [
    "#598개 모두 NAN인 경우 0으로 채움\n",
    "na_check=train_x.isna().sum()\n",
    "x2=na_check[na_check==598].index\n",
    "for i in x2:\n",
    "    train_x[i]=train_x[i].fillna(0)\n",
    "xx=na_check[na_check > 0].index\n",
    "xx"
   ]
  },
  {
   "cell_type": "code",
   "execution_count": 8,
   "id": "06f2cd23",
   "metadata": {},
   "outputs": [
    {
     "data": {
      "text/plain": [
       "Index(['X_1', 'X_2', 'X_3', 'X_4', 'X_5', 'X_6', 'X_7', 'X_8', 'X_9', 'X_10',\n",
       "       ...\n",
       "       'X_2866', 'X_2867', 'X_2868', 'X_2869', 'X_2870', 'X_2871', 'X_2872',\n",
       "       'X_2873', 'X_2874', 'X_2875'],\n",
       "      dtype='object', length=2875)"
      ]
     },
     "execution_count": 8,
     "metadata": {},
     "output_type": "execute_result"
    }
   ],
   "source": [
    "#598개 모두 NAN인 경우 0으로 채움\n",
    "na_check2=test_x.isna().sum()\n",
    "x22=na_check2[na_check2==len(test_x)].index\n",
    "for i in x22:\n",
    "    test_x[i]=test_x[i].fillna(0)\n",
    "xx2=na_check2[na_check2 > 0].index\n",
    "xx2"
   ]
  },
  {
   "cell_type": "code",
   "execution_count": 9,
   "id": "d7071b38",
   "metadata": {},
   "outputs": [
    {
     "name": "stdout",
     "output_type": "stream",
     "text": [
      "     LINE  PRODUCT_CODE   X_1   X_2  X_3   X_4   X_5  X_6   X_7   X_8  ...  \\\n",
      "0       2             0   NaN   NaN  NaN   NaN   NaN  NaN   NaN   NaN  ...   \n",
      "1       3             0   NaN   NaN  NaN   NaN   NaN  NaN   NaN   NaN  ...   \n",
      "2       2             0   NaN   NaN  NaN   NaN   NaN  NaN   NaN   NaN  ...   \n",
      "3       3             0   NaN   NaN  NaN   NaN   NaN  NaN   NaN   NaN  ...   \n",
      "4       2             0   NaN   NaN  NaN   NaN   NaN  NaN   NaN   NaN  ...   \n",
      "..    ...           ...   ...   ...  ...   ...   ...  ...   ...   ...  ...   \n",
      "593     5             2   2.0  95.0  0.0  45.0  10.0  0.0  50.0  10.0  ...   \n",
      "594     2             0   NaN   NaN  NaN   NaN   NaN  NaN   NaN   NaN  ...   \n",
      "595     2             0   NaN   NaN  NaN   NaN   NaN  NaN   NaN   NaN  ...   \n",
      "596     4             1  40.0  94.0  0.0  45.0  11.0  0.0  45.0  10.0  ...   \n",
      "597     5             1  21.0  87.0  0.0  45.0  10.0  0.0  61.0  10.0  ...   \n",
      "\n",
      "     X_2866  X_2867  X_2868  X_2869  X_2870  X_2871  X_2872  X_2873  X_2874  \\\n",
      "0     39.34   40.89   32.56   34.09   77.77     NaN     0.0     0.0     0.0   \n",
      "1     38.89   42.82   43.92   35.34   72.55     NaN     0.0     0.0     0.0   \n",
      "2     39.19   36.65   42.47   36.53   78.35     NaN     0.0     0.0     0.0   \n",
      "3     37.74   39.17   52.17   30.58   71.78     NaN     0.0     0.0     0.0   \n",
      "4     38.70   41.89   46.93   33.09   76.97     NaN     0.0     0.0     0.0   \n",
      "..      ...     ...     ...     ...     ...     ...     ...     ...     ...   \n",
      "593     NaN     NaN     NaN     NaN     NaN     NaN     0.0     0.0     0.0   \n",
      "594   49.47   53.07   50.89   55.10   66.49     1.0     0.0     0.0     0.0   \n",
      "595     NaN     NaN     NaN     NaN     NaN     1.0     0.0     0.0     0.0   \n",
      "596     NaN     NaN     NaN     NaN     NaN     NaN     0.0     0.0     0.0   \n",
      "597     NaN     NaN     NaN     NaN     NaN     NaN     0.0     0.0     0.0   \n",
      "\n",
      "     X_2875  \n",
      "0       0.0  \n",
      "1       0.0  \n",
      "2       0.0  \n",
      "3       0.0  \n",
      "4       0.0  \n",
      "..      ...  \n",
      "593     0.0  \n",
      "594     0.0  \n",
      "595     0.0  \n",
      "596     0.0  \n",
      "597     0.0  \n",
      "\n",
      "[598 rows x 2877 columns]\n"
     ]
    }
   ],
   "source": [
    "print(train_x)"
   ]
  },
  {
   "cell_type": "code",
   "execution_count": 10,
   "id": "90a503b9",
   "metadata": {},
   "outputs": [
    {
     "name": "stdout",
     "output_type": "stream",
     "text": [
      "     LINE  PRODUCT_CODE  X_1   X_2  X_3   X_4   X_5  X_6   X_7   X_8  ...  \\\n",
      "0       5             2  2.0  94.0  0.0  45.0  10.0  0.0  51.0  10.0  ...   \n",
      "1       4             2  2.0  93.0  0.0  45.0  11.0  0.0  45.0  10.0  ...   \n",
      "2       4             2  2.0  95.0  0.0  45.0  11.0  0.0  45.0  10.0  ...   \n",
      "3       0             0  NaN   NaN  NaN   NaN   NaN  NaN   NaN   NaN  ...   \n",
      "4       1             0  NaN   NaN  NaN   NaN   NaN  NaN   NaN   NaN  ...   \n",
      "..    ...           ...  ...   ...  ...   ...   ...  ...   ...   ...  ...   \n",
      "305     5             2  2.0  91.0  0.0  45.0  10.0  0.0  51.0  10.0  ...   \n",
      "306     4             2  2.0  96.0  0.0  45.0  11.0  0.0  45.0  10.0  ...   \n",
      "307     5             2  2.0  91.0  0.0  45.0  10.0  0.0  50.0  10.0  ...   \n",
      "308     5             2  2.0  95.0  0.0  45.0  10.0  0.0  51.0  10.0  ...   \n",
      "309     5             2  2.0  87.0  0.0  45.0  10.0  0.0  51.0  10.0  ...   \n",
      "\n",
      "     X_2866  X_2867  X_2868  X_2869  X_2870  X_2871  X_2872  X_2873  X_2874  \\\n",
      "0       NaN     NaN     NaN     NaN     NaN     NaN     NaN     NaN     NaN   \n",
      "1       NaN     NaN     NaN     NaN     NaN     NaN     NaN     NaN     NaN   \n",
      "2       NaN     NaN     NaN     NaN     NaN     NaN     NaN     NaN     NaN   \n",
      "3       NaN     NaN     NaN     NaN     NaN     NaN     NaN     NaN     NaN   \n",
      "4       NaN     NaN     NaN     NaN     NaN     NaN     NaN     NaN     NaN   \n",
      "..      ...     ...     ...     ...     ...     ...     ...     ...     ...   \n",
      "305     NaN     NaN     NaN     NaN     NaN     NaN     NaN     NaN     NaN   \n",
      "306     NaN     NaN     NaN     NaN     NaN     NaN     NaN     NaN     NaN   \n",
      "307     NaN     NaN     NaN     NaN     NaN     NaN     NaN     NaN     NaN   \n",
      "308     NaN     NaN     NaN     NaN     NaN     NaN     NaN     NaN     NaN   \n",
      "309     NaN     NaN     NaN     NaN     NaN     NaN     NaN     NaN     NaN   \n",
      "\n",
      "     X_2875  \n",
      "0       NaN  \n",
      "1       NaN  \n",
      "2       NaN  \n",
      "3       NaN  \n",
      "4       NaN  \n",
      "..      ...  \n",
      "305     NaN  \n",
      "306     NaN  \n",
      "307     NaN  \n",
      "308     NaN  \n",
      "309     NaN  \n",
      "\n",
      "[310 rows x 2877 columns]\n",
      "310\n"
     ]
    }
   ],
   "source": [
    "print(test_x)\n",
    "print(len(test_x))"
   ]
  },
  {
   "cell_type": "code",
   "execution_count": 11,
   "id": "0f3576f3",
   "metadata": {},
   "outputs": [
    {
     "name": "stdout",
     "output_type": "stream",
     "text": [
      "     0     1         2         3     4     5          6     7          8     \\\n",
      "0     5.0   2.0  2.000000  94.00000   0.0  45.0  10.000000   0.0  51.000000   \n",
      "1     4.0   2.0  2.000000  93.00000   0.0  45.0  11.000000   0.0  45.000000   \n",
      "2     4.0   2.0  2.000000  95.00000   0.0  45.0  11.000000   0.0  45.000000   \n",
      "3     0.0   0.0  4.337449  94.44856   0.0  45.0  10.271605   0.0  48.485597   \n",
      "4     1.0   0.0  4.337449  94.44856   0.0  45.0  10.271605   0.0  48.485597   \n",
      "..    ...   ...       ...       ...   ...   ...        ...   ...        ...   \n",
      "305   5.0   2.0  2.000000  91.00000   0.0  45.0  10.000000   0.0  51.000000   \n",
      "306   4.0   2.0  2.000000  96.00000   0.0  45.0  11.000000   0.0  45.000000   \n",
      "307   5.0   2.0  2.000000  91.00000   0.0  45.0  10.000000   0.0  50.000000   \n",
      "308   5.0   2.0  2.000000  95.00000   0.0  45.0  10.000000   0.0  51.000000   \n",
      "309   5.0   2.0  2.000000  87.00000   0.0  45.0  10.000000   0.0  51.000000   \n",
      "\n",
      "          9     ...       2867       2868       2869       2870       2871  \\\n",
      "0    10.000000  ...  52.066471  53.014706  49.994412  54.202353  63.806176   \n",
      "1    10.000000  ...  52.066471  53.014706  49.994412  54.202353  63.806176   \n",
      "2    10.000000  ...  52.066471  53.014706  49.994412  54.202353  63.806176   \n",
      "3    10.012346  ...  52.066471  53.014706  49.994412  54.202353  63.806176   \n",
      "4    10.012346  ...  52.066471  53.014706  49.994412  54.202353  63.806176   \n",
      "..         ...  ...        ...        ...        ...        ...        ...   \n",
      "305  10.000000  ...  52.066471  53.014706  49.994412  54.202353  63.806176   \n",
      "306  10.000000  ...  52.066471  53.014706  49.994412  54.202353  63.806176   \n",
      "307  10.000000  ...  52.066471  53.014706  49.994412  54.202353  63.806176   \n",
      "308  10.000000  ...  52.066471  53.014706  49.994412  54.202353  63.806176   \n",
      "309  10.000000  ...  52.066471  53.014706  49.994412  54.202353  63.806176   \n",
      "\n",
      "         2872        2873        2874   2875        2876  \n",
      "0    0.974359  247.988889  251.888889  243.3  228.844444  \n",
      "1    0.974359  247.988889  251.888889  243.3  228.844444  \n",
      "2    0.974359  247.988889  251.888889  243.3  228.844444  \n",
      "3    0.974359  247.988889  251.888889  243.3  228.844444  \n",
      "4    0.974359  247.988889  251.888889  243.3  228.844444  \n",
      "..        ...         ...         ...    ...         ...  \n",
      "305  0.974359  247.988889  251.888889  243.3  228.844444  \n",
      "306  0.974359  247.988889  251.888889  243.3  228.844444  \n",
      "307  0.974359  247.988889  251.888889  243.3  228.844444  \n",
      "308  0.974359  247.988889  251.888889  243.3  228.844444  \n",
      "309  0.974359  247.988889  251.888889  243.3  228.844444  \n",
      "\n",
      "[310 rows x 2877 columns]\n"
     ]
    }
   ],
   "source": [
    "from sklearn.impute import SimpleImputer\n",
    "\n",
    "my_imputer = SimpleImputer(strategy=\"mean\")\n",
    "#imputer 생성\n",
    "train_x = pd.DataFrame(my_imputer.fit_transform(train_x))\n",
    "test_x = pd.DataFrame(my_imputer.fit_transform(test_x))\n",
    "\n",
    "print(test_x)"
   ]
  },
  {
   "cell_type": "markdown",
   "id": "5fec6b34-1e64-4d20-afdd-e96f4f77fa31",
   "metadata": {},
   "source": [
    "## Classification Model Fit"
   ]
  },
  {
   "cell_type": "code",
   "execution_count": 12,
   "id": "c6ca77bc-154c-4cb3-9251-3fe45d671416",
   "metadata": {},
   "outputs": [
    {
     "name": "stdout",
     "output_type": "stream",
     "text": [
      "Done.\n"
     ]
    }
   ],
   "source": [
    "RF = RandomForestClassifier(random_state=37).fit(train_x, train_y)\n",
    "print('Done.')"
   ]
  },
  {
   "cell_type": "markdown",
   "id": "74ddaa38-bd6e-47d2-82d3-c000f188886a",
   "metadata": {},
   "source": [
    "## Inference"
   ]
  },
  {
   "cell_type": "code",
   "execution_count": 13,
   "id": "33b68656-3d7d-4221-b508-24d0d7622179",
   "metadata": {},
   "outputs": [
    {
     "name": "stdout",
     "output_type": "stream",
     "text": [
      "Done.\n"
     ]
    }
   ],
   "source": [
    "preds = RF.predict(test_x)\n",
    "print('Done.')"
   ]
  },
  {
   "cell_type": "markdown",
   "id": "d97cf38e-2062-4645-9095-2ebac375711e",
   "metadata": {},
   "source": [
    "## Submit"
   ]
  },
  {
   "cell_type": "code",
   "execution_count": 14,
   "id": "20c5e156-d7c4-400f-b552-0bb86ebfd3e3",
   "metadata": {},
   "outputs": [],
   "source": [
    "submit = pd.read_csv('./sample_submission.csv')"
   ]
  },
  {
   "cell_type": "code",
   "execution_count": 15,
   "id": "5b869ab6-6852-45a1-bc75-39dee40b583f",
   "metadata": {},
   "outputs": [],
   "source": [
    "submit['Y_Class'] = preds"
   ]
  },
  {
   "cell_type": "code",
   "execution_count": 16,
   "id": "026b00cd-5680-4bf2-b7f8-0bea6ae8299e",
   "metadata": {
    "tags": []
   },
   "outputs": [],
   "source": [
    "submit.to_csv('./2_16.csv', index=False)"
   ]
  },
  {
   "cell_type": "code",
   "execution_count": null,
   "id": "95da6600",
   "metadata": {},
   "outputs": [],
   "source": []
  },
  {
   "cell_type": "code",
   "execution_count": null,
   "id": "adbd6871",
   "metadata": {},
   "outputs": [],
   "source": []
  }
 ],
 "metadata": {
  "kernelspec": {
   "display_name": "Python 3 (ipykernel)",
   "language": "python",
   "name": "python3"
  },
  "language_info": {
   "codemirror_mode": {
    "name": "ipython",
    "version": 3
   },
   "file_extension": ".py",
   "mimetype": "text/x-python",
   "name": "python",
   "nbconvert_exporter": "python",
   "pygments_lexer": "ipython3",
   "version": "3.10.10"
  }
 },
 "nbformat": 4,
 "nbformat_minor": 5
}
